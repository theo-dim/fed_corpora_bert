{
 "cells": [
  {
   "cell_type": "code",
   "execution_count": 1,
   "metadata": {},
   "outputs": [],
   "source": [
    "from bs4 import BeautifulSoup\n",
    "from urllib.request import urlopen\n",
    "import re\n",
    "import requests\n",
    "import pandas as pd"
   ]
  },
  {
   "cell_type": "code",
   "execution_count": 2,
   "metadata": {
    "scrolled": true
   },
   "outputs": [
    {
     "name": "stdout",
     "output_type": "stream",
     "text": [
      "109\n",
      "1\n"
     ]
    },
    {
     "ename": "NameError",
     "evalue": "name 'html' is not defined",
     "output_type": "error",
     "traceback": [
      "\u001b[0;31m---------------------------------------------------------------------------\u001b[0m",
      "\u001b[0;31mNameError\u001b[0m                                 Traceback (most recent call last)",
      "\u001b[0;32m<ipython-input-2-0fe8df9e30b9>\u001b[0m in \u001b[0;36m<module>\u001b[0;34m\u001b[0m\n\u001b[1;32m      3\u001b[0m \u001b[0mprint\u001b[0m\u001b[0;34m(\u001b[0m\u001b[0mstr\u001b[0m\u001b[0;34m(\u001b[0m\u001b[0mr\u001b[0m\u001b[0;34m.\u001b[0m\u001b[0mtext\u001b[0m\u001b[0;34m)\u001b[0m\u001b[0;34m.\u001b[0m\u001b[0mcount\u001b[0m\u001b[0;34m(\u001b[0m\u001b[0;34m'</p>'\u001b[0m\u001b[0;34m)\u001b[0m\u001b[0;34m)\u001b[0m\u001b[0;34m\u001b[0m\u001b[0;34m\u001b[0m\u001b[0m\n\u001b[1;32m      4\u001b[0m \u001b[0;34m\u001b[0m\u001b[0m\n\u001b[0;32m----> 5\u001b[0;31m \u001b[0mprint\u001b[0m\u001b[0;34m(\u001b[0m\u001b[0mstr\u001b[0m\u001b[0;34m(\u001b[0m\u001b[0mr\u001b[0m\u001b[0;34m.\u001b[0m\u001b[0mtext\u001b[0m\u001b[0;34m)\u001b[0m\u001b[0;34m.\u001b[0m\u001b[0mcount\u001b[0m\u001b[0;34m(\u001b[0m\u001b[0;34m'</p>'\u001b[0m\u001b[0;34m)\u001b[0m \u001b[0;34m<\u001b[0m \u001b[0mstr\u001b[0m\u001b[0;34m(\u001b[0m\u001b[0mhtml\u001b[0m\u001b[0;34m)\u001b[0m\u001b[0;34m.\u001b[0m\u001b[0mcount\u001b[0m\u001b[0;34m(\u001b[0m\u001b[0;34m'<p'\u001b[0m\u001b[0;34m)\u001b[0m \u001b[0;34m/\u001b[0m \u001b[0;36m2\u001b[0m\u001b[0;34m)\u001b[0m\u001b[0;34m\u001b[0m\u001b[0;34m\u001b[0m\u001b[0m\n\u001b[0m\u001b[1;32m      6\u001b[0m \u001b[0;34m\u001b[0m\u001b[0m\n\u001b[1;32m      7\u001b[0m \u001b[0mhtml\u001b[0m \u001b[0;34m=\u001b[0m \u001b[0mr\u001b[0m\u001b[0;34m.\u001b[0m\u001b[0mtext\u001b[0m\u001b[0;34m.\u001b[0m\u001b[0mreplace\u001b[0m\u001b[0;34m(\u001b[0m\u001b[0;34m'<P'\u001b[0m\u001b[0;34m,\u001b[0m \u001b[0;34m'<p'\u001b[0m\u001b[0;34m)\u001b[0m\u001b[0;34m.\u001b[0m\u001b[0mreplace\u001b[0m\u001b[0;34m(\u001b[0m\u001b[0;34m'</P>'\u001b[0m\u001b[0;34m,\u001b[0m \u001b[0;34m'</p>'\u001b[0m\u001b[0;34m)\u001b[0m\u001b[0;34m\u001b[0m\u001b[0;34m\u001b[0m\u001b[0m\n",
      "\u001b[0;31mNameError\u001b[0m: name 'html' is not defined"
     ]
    }
   ],
   "source": [
    "r = requests.get('https://www.federalreserve.gov/boarddocs/speeches/2001/20011205/default.htm')\n",
    "print(str(r.text).count('<p'))\n",
    "print(str(r.text).count('</p>'))\n",
    "\n",
    "print(str(r.text).count('</p>') < str(html).count('<p') / 2)\n",
    "\n",
    "html = r.text.replace('<P', '<p').replace('</P>', '</p>')\n",
    "\n",
    "html = html.replace('<p', '</p><p')\n",
    "\n",
    "html = html.replace('</p><p', '<p', 1)\n",
    "#print(html)\n",
    "\n",
    "x = re.search(r'(<b>references|<b>appendix|<strong>references|<strong>appendix)', html.lower())\n",
    "\n",
    "if x:\n",
    "    html = html[:x.start()]\n",
    "    html += '</body></html>'\n",
    "    \n",
    "#print(x.start())\n",
    "#print(html[:x.start()])\n",
    "\n",
    "article = BeautifulSoup(html, 'html.parser')\n",
    "\n",
    "for fn in article.find_all('a', {'name': re.compile('fn\\d')}):\n",
    "    fn.parent.decompose()\n",
    "\n",
    "paragraphs = article.find_all('p')\n",
    "for paragraph in paragraphs:\n",
    "    print(paragraph)\n",
    "    print('----------------------------------------------------------------')\n",
    "    print('')"
   ]
  },
  {
   "cell_type": "code",
   "execution_count": 95,
   "metadata": {
    "scrolled": true
   },
   "outputs": [
    {
     "name": "stdout",
     "output_type": "stream",
     "text": [
      "<a href=\"/newsevents/speech/duke20091210a.htm\"><em>Envisioning a Future for Housing Finance</em></a>\n",
      "2:  Governor Elizabeth A. Duke\n",
      "<a href=\"/newsevents/speech/duke20091209a.htm\"><em>Keys to Successful Neighborhood Stabilization</em></a>\n",
      "2:  Governor Elizabeth A. Duke\n",
      "<a href=\"/newsevents/speech/bernanke20091207a.htm\"><em>Frequently Asked Questions</em></a>\n",
      "2:  Chairman Ben S. Bernanke\n",
      "<a href=\"/newsevents/speech/kohn20091116a.htm\"><em>Policy Challenges for the Federal Reserve</em></a>\n",
      "2:  Vice Chairman Donald L. Kohn\n",
      "<a href=\"/newsevents/speech/bernanke20091116a.htm\"><em>On the Outlook for the Economy and Policy</em></a>\n",
      "2:  Chairman Ben S. Bernanke\n",
      "<a href=\"/newsevents/speech/tarullo20091110a.htm\"><em>Supervising and Resolving Large Financial Institutions</em></a>\n",
      "2:  Governor Daniel K. Tarullo\n",
      "<a href=\"/newsevents/speech/tarullo20091109a.htm\"><em>Financial Regulation: Past and Future</em></a>\n",
      "2:  Governor Daniel K. Tarullo\n",
      "<a href=\"/newsevents/speech/tarullo20091102a.htm\"><em>Incentive Compensation, Risk Management, and Safety and Soundness</em></a>\n",
      "2:  Governor Daniel K. Tarullo\n",
      "<a href=\"/newsevents/speech/kohn20091023a.htm\"><em>International Perspective on the Crisis and Response</em></a>\n",
      "2:  Vice Chairman Donald L. Kohn\n",
      "<a href=\"/newsevents/speech/bernanke20091023a.htm\"><em>Financial Regulation and Supervision after the Crisis: The Role of the Federal Reserve</em></a>\n",
      "2:  Chairman Ben S. Bernanke\n",
      "<a href=\"/newsevents/speech/tarullo20091021a.htm\"><em>Confronting Too Big to Fail</em></a>\n",
      "2:  Governor Daniel K. Tarullo\n",
      "<a href=\"/newsevents/speech/bernanke20091019a.htm\"><em>Asia and the Global Financial Crisis</em></a>\n",
      "2:  Chairman Ben S. Bernanke\n",
      "<a href=\"/newsevents/speech/kohn20091013a.htm\"><em>The Economic Outlook</em></a>\n",
      "2:  Vice Chairman Donald L. Kohn\n",
      "<a href=\"/newsevents/speech/kohn20091009a.htm\"><em>Monetary Policy Research and the Financial Crisis: Strengths and Shortcomings</em></a>\n",
      "2:  Vice Chairman Donald L. Kohn\n",
      "<a href=\"/newsevents/speech/bernanke20091008a.htm\"><em>The Federal Reserve's Balance Sheet: An Update</em></a>\n",
      "2:  Chairman Ben S. Bernanke\n",
      "<a href=\"/newsevents/speech/tarullo20091008a.htm\"><em>In the Wake of the Crisis</em></a>\n",
      "2:  Governor Daniel K. Tarullo\n",
      "<a href=\"/newsevents/speech/kohn20090930a.htm\"><em>Central Bank Exit Policies</em></a>\n",
      "2:  Vice Chairman Donald L. Kohn\n",
      "<a href=\"/newsevents/speech/warsh20090925a.htm\"><em>Longer Days, Fewer Weekends</em></a>\n",
      "2:  Governor Kevin Warsh\n",
      "<a href=\"/newsevents/speech/bernanke20090925a.htm\"><em>Brief Remarks</em></a>\n",
      "2:  Chairman Ben S. Bernanke\n",
      "<a href=\"/newsevents/speech/bernanke20090821a.htm\"><em>Reflections on a Year of Crisis</em></a>\n",
      "2:  \n",
      "<a href=\"/newsevents/speech/duke20090914a.htm\"><em>Regulatory Perspectives on the Changing Accounting Landscape</em></a>\n",
      "2:  Governor Elizabeth A. Duke\n",
      "<a href=\"/newsevents/speech/kohn20090910a.htm\"><em>Comments on \"Interpreting the Unconventional U.S. Monetary Policy of 2007-2009\"</em></a>\n",
      "2:  Vice Chairman Donald L. Kohn\n",
      "<a href=\"/newsevents/speech/tarullo20090825a.htm\"><em>The Community Affairs Function at the Federal Reserve</em></a>\n",
      "2:  Governor Daniel K. Tarullo\n",
      "<a href=\"/newsevents/speech/madigan20090821a.htm\"><em>Bagehot's Dictum in Practice: Formulating and Implementing Policies to Combat the Financial Crisis</em></a>\n",
      "2:  Brian F. Madigan, Director, Division of Monetary Affairs\n",
      "<a href=\"/newsevents/speech/bernanke20090821a.htm\"><em>Reflections on a Year of Crisis</em></a>\n",
      "2:  Chairman Ben S. Bernanke\n",
      "<a href=\"/newsevents/speech/kohn20090710a.htm\"><em>Comments on \"Financial Intermediation and the Post-Crisis Financial System\"</em></a>\n",
      "2:  Vice Chairman Donald L. Kohn\n",
      "<a href=\"/newsevents/speech/duke20090709a.htm\"><em>Federal Reserve's Initiatives to Support Minority-Owned Institutions </em></a>\n",
      "2:  Governor Elizabeth A. Duke\n",
      "<a href=\"/newsevents/speech/bernanke20090626a.htm\"><em>Brief Remarks</em></a>\n",
      "2:  Chairman Ben S. Bernanke\n",
      "<a href=\"/newsevents/speech/bernanke20090617a.htm\"><em>Community Development Financial Institutions: Challenges and Opportunities</em></a>\n",
      "2:  Chairman Ben S. Bernanke\n",
      "<a href=\"/newsevents/speech/warsh20090616a.htm\"><em>Defining Deviancy</em></a>\n",
      "2:  Governor Kevin Warsh\n",
      "<a href=\"/newsevents/speech/duke20090616a.htm\"><em>Containing the Crisis and Promoting Economic Recovery</em></a>\n",
      "2:  Governor Elizabeth A. Duke\n",
      "<a href=\"/newsevents/speech/tarullo20090615a.htm\"><em>Large Banks and Small Banks in an Era of Systemic Risk Regulation</em></a>\n",
      "2:  Governor Daniel K. Tarullo\n",
      "<a href=\"/newsevents/speech/duke20090610a.htm\"><em>The Systemic Importance of Consumer Protection</em></a>\n",
      "2:  Governor Elizabeth A. Duke\n",
      "<a href=\"/newsevents/speech/tarullo20090608a.htm\"><em>Financial Regulation in the Wake of the Crisis</em></a>\n",
      "2:  Governor Daniel K. Tarullo\n",
      "<a href=\"/newsevents/speech/bernanke20090604a.htm\"><em>Welcoming Remarks</em></a>\n",
      "2:  Chairman Ben S. Bernanke\n",
      "<a href=\"/newsevents/speech/kohn20090523a.htm\"><em>Interactions between Monetary and Fiscal Policy in the Current Situation</em></a>\n",
      "2:  Vice Chairman Donald L. Kohn\n",
      "<a href=\"/newsevents/speech/bernanke20090522a.htm\"><em>Commencement address</em></a>\n",
      "2:  Chairman Ben S. Bernanke\n",
      "<a href=\"/newsevents/speech/bernanke20090511a.htm\"><em>The Supervisory Capital Assessment Program</em></a>\n",
      "2:  Chairman Ben S. Bernanke\n",
      "<a href=\"/newsevents/speech/bernanke20090507a.htm\"><em>Lessons of the Financial Crisis for Banking Supervision</em></a>\n",
      "2:  Chairman Ben S. Bernanke\n",
      "<a href=\"/newsevents/speech/kohn20090420a.htm\"><em>The Economic Outlook</em></a>\n",
      "2:  Vice Chairman Donald L. Kohn\n",
      "<a href=\"/newsevents/speech/kohn20090418a.htm\"><em>Monetary Policy in the Financial Crisis</em></a>\n",
      "2:  Vice Chairman Donald L. Kohn\n",
      "<a href=\"/newsevents/speech/bernanke20090417a.htm\"><em>Financial Innovation and Consumer Protection</em></a>\n",
      "2:  Chairman Ben S. Bernanke\n",
      "<a href=\"/newsevents/speech/bernanke20090414a.htm\"><em>Four Questions about the Financial Crisis</em></a>\n",
      "2:  Chairman Ben S. Bernanke\n",
      "<a href=\"/newsevents/speech/warsh20090406a.htm\"><em>The Panic of 2008</em></a>\n",
      "2:  Governor Kevin Warsh\n",
      "<a href=\"/newsevents/speech/bernanke20090403a.htm\"><em>The Federal Reserve's Balance Sheet </em></a>\n",
      "2:  Chairman Ben S. Bernanke\n",
      "<a href=\"/newsevents/speech/kohn20090403a.htm\"><em>Policies to Bring Us Out of the Financial Crisis and Recession</em></a>\n",
      "2:  Vice Chairman Donald L. Kohn\n",
      "<a href=\"/newsevents/speech/duke20090330a.htm\"><em>A Framework for Analyzing Bank Lending</em></a>\n",
      "2:  Governor Elizabeth A. Duke\n",
      "<a href=\"/newsevents/speech/bernanke20090320a.htm\"><em>The Financial Crisis and Community Banking</em></a>\n",
      "2:  Chairman Ben S. Bernanke\n",
      "<a href=\"/newsevents/speech/bernanke20090310a.htm\"><em>Financial Reform to Address Systemic Risk</em></a>\n",
      "2:  Chairman Ben S. Bernanke\n",
      "<a href=\"/newsevents/speech/bernanke20090307a.htm\"><em>Brief Remarks</em></a>\n",
      "2:  Chairman Ben S. Bernanke\n",
      "<a href=\"/newsevents/speech/duke20090224a.htm\"><em>CRA: A Framework for the Future</em></a>\n",
      "2:  Governor Elizabeth A. Duke\n",
      "<a href=\"/newsevents/speech/bernanke20090218a.htm\"><em>Federal Reserve Policies to Ease Credit and Their Implications for the Fed's Balance Sheet</em></a>\n",
      "2:  Chairman Ben S. Bernanke\n",
      "<a href=\"/newsevents/speech/duke20090216a.htm\"><em>Stabilizing the Housing Market: Focus on Communities</em></a>\n",
      "2:  Governor Elizabeth A. Duke\n",
      "<a href=\"/newsevents/speech/duke20090211a.htm\"><em>Stabilizing the Housing Market:  Next Steps</em></a>\n",
      "2:  Governor Elizabeth A. Duke\n",
      "<a href=\"/newsevents/speech/bernanke20090113a.htm\"><em>The Crisis and the Policy Response</em></a>\n",
      "2:  Chairman Ben S. Bernanke\n"
     ]
    }
   ],
   "source": [
    "r = requests.get('https://www.federalreserve.gov/newsevents/speech/2009speech.htm')\n",
    "year = 2009\n",
    "soup = BeautifulSoup(r.text, 'html.parser')\n",
    "links = soup.findAll('a', href=re.compile('^/?newsevents/speech/.*{}\\d\\d\\d\\d.*.htm|^/boarddocs/speeches/{}/|^{}\\d\\d\\d\\d.*.htm'.format(str(year), str(year), str(year))))\n",
    "for speech_link in links:\n",
    "    print(speech_link)\n",
    "    if speech_link.find({'class': 'watchLive'}):\n",
    "        continue\n",
    "\n",
    "    if year == 1997:\n",
    "        if speech_link.get('href') == '/boarddocs/speeches/1997/19971215.htm':\n",
    "            speaker = speech_link.parent.next_sibling.next_element.get_text().replace('\\n', '').strip()\n",
    "            print()\n",
    "            print('1-1: ', speaker)\n",
    "            tmp_cnt = 1\n",
    "        else:\n",
    "            speaker = speech_link.parent.previous_sibling.previous_sibling.get_text().replace('\\n', '').strip()\n",
    "            print('1-2: ', speaker)\n",
    "            tmp_cnt = 2\n",
    "\n",
    "    else:\n",
    "        if speech_link.get('href') in ('/boarddocs/speeches/2005/20051128/default.htm', '/boarddocs/speeches/2005/20051129/default.htm'):\n",
    "            tmp_speaker = speech_link.parent.previous_sibling.previous_sibling.get_text().replace('\\n', '').strip()\n",
    "        else:\n",
    "            speaker = speech_link.parent.next_sibling.next_element.get_text().replace('\\n', '').strip()\n",
    "            print('2: ', speaker)\n",
    "            if speaker in ('Watch Live', 'Video'):\n",
    "                speaker = speech_link.parent.next_sibling.next_sibling.next_sibling.next_element.get_text().replace('\\n', '').strip()\n",
    "                print('3: ', speaker)\n"
   ]
  },
  {
   "cell_type": "code",
   "execution_count": 3,
   "metadata": {
    "scrolled": true
   },
   "outputs": [
    {
     "data": {
      "text/plain": [
       "[<a href=\"/boarddocs/speeches/2002/20021219/default.htm\">Issues for monetary policy</a>,\n",
       " <a href=\"/boarddocs/speeches/2002/200212132/default.htm\">The importance of market structure</a>,\n",
       " <a href=\"/boarddocs/speeches/2002/20021213/default.htm\">Credit availability for small business</a>,\n",
       " <a href=\"/boarddocs/speeches/2002/20021122/default.htm\">The U.S. current account deficit</a>,\n",
       " <a href=\"/boarddocs/speeches/2002/20021121/default.htm\">Deflation: Making sure \"it\" doesn't happen here</a>,\n",
       " <a href=\"/boarddocs/speeches/2002/20021120/default.htm\">Financial engineering and financial stability</a>,\n",
       " <a href=\"/boarddocs/speeches/2002/20021119/default.htm\">International financial risk management</a>,\n",
       " <a href=\"/boarddocs/speeches/2002/200211182/default.htm\">Opening remarks</a>,\n",
       " <a href=\"/boarddocs/speeches/2002/20021118/default.htm\">Overcoming challenges and seizing opportunities in Indian Country</a>,\n",
       " <a href=\"/boarddocs/speeches/2002/200211125/default.htm\">Opening remarks</a>,\n",
       " <a href=\"/boarddocs/speeches/2002/200211124/default.htm\">The banking industry in 2002 after a decade of change</a>,\n",
       " <a href=\"/boarddocs/speeches/2002/200211123/default.htm\">Economic progress and small business</a>,\n",
       " <a href=\"/boarddocs/speeches/2002/200211122/default.htm\">Recent experience and economic outlook</a>,\n",
       " <a href=\"/boarddocs/speeches/2002/20021112/default.htm\">The wealth of nations revisited</a>,\n",
       " <a href=\"/boarddocs/speeches/2002/20021108/default.htm\">On Milton Friedman's ninetieth birthday</a>,\n",
       " <a href=\"/boarddocs/speeches/2002/200211072/default.htm\">Opening remarks</a>,\n",
       " <a href=\"/boarddocs/speeches/2002/20021107/default.htm\">Effective accounting and disclosure for financial transactions and financial institutions</a>,\n",
       " <a href=\"/boarddocs/speeches/2002/20021029/default.htm\">Education</a>,\n",
       " <a href=\"/boarddocs/speeches/2002/20021024/default.htm\">Productivity growth: A realistic assessment</a>,\n",
       " <a href=\"/boarddocs/speeches/2002/20021023/default.htm\">Productivity</a>,\n",
       " <a href=\"/boarddocs/speeches/2002/20021022/default.htm\">Urban revitalization: Shared responsibilities</a>,\n",
       " <a href=\"/boarddocs/speeches/2002/200210163/default.htm\"><em>The methodology of benefit-cost analysis</em></a>,\n",
       " <a href=\"/boarddocs/speeches/2002/200210162/default.htm\"><em>Remarks</em></a>,\n",
       " <a href=\"/boarddocs/speeches/2002/20021016/default.htm\">Should financial stability be an explicit central bank objective?</a>,\n",
       " <a href=\"/boarddocs/speeches/2002/20021015/default.htm\">Asset-price \"bubbles\" and monetary policy</a>,\n",
       " <a href=\"/boarddocs/speeches/2002/20021009/default.htm\">Central banks and markets</a>,\n",
       " <a href=\"/boarddocs/speeches/2002/20021008/default.htm\">Corporate governance and risk management</a>,\n",
       " <a href=\"/boarddocs/speeches/2002/20021007/default.htm\">Banking</a>,\n",
       " <a href=\"/boarddocs/speeches/2002/20021003/default.htm\">Business continuity after September 11</a>,\n",
       " <a href=\"/boarddocs/speeches/2002/20021001/default.htm\">The challenge for corporate governance posed by financial innovation</a>,\n",
       " <a href=\"/boarddocs/speeches/2002/20020928/default.htm\">Bank performance and corporate governance</a>,\n",
       " <a href=\"/boarddocs/speeches/2002/200209253/default.htm\">World finance and risk management</a>,\n",
       " <a href=\"/boarddocs/speeches/2002/200209252/default.htm\">Regulation, innovation, and wealth creation</a>,\n",
       " <a href=\"/boarddocs/speeches/2002/20020925/default.htm\">Policy coordination</a>,\n",
       " <a href=\"/boarddocs/speeches/2002/20020830/default.htm\">Economic volatility</a>,\n",
       " <a href=\"/boarddocs/speeches/2002/20020726/default.htm\">Economic change in rural America</a>,\n",
       " <a href=\"/boarddocs/speeches/2002/20020708/default.htm\">Financial markets regulation in the United States</a>,\n",
       " <a href=\"/boarddocs/speeches/2002/20020705/default.htm\">Introductory remarks</a>,\n",
       " <a href=\"/boarddocs/speeches/2002/20020620/default.htm\">Banking supervision and its application in developing countries</a>,\n",
       " <a href=\"/boarddocs/speeches/2002/20020611/default.htm\">Bank performance and corporate governance</a>,\n",
       " <a href=\"/boarddocs/speeches/2002/20020610/default.htm\">Lessons to be re-learned from recent breakdowns in corporate accounting</a>,\n",
       " <a href=\"/boarddocs/speeches/2002/20020531/default.htm\">The dual banking system and the current condition of the banking industry</a>,\n",
       " <a href=\"/boarddocs/speeches/2002/200205212/default.htm\">Community and regional banks: Increasing complexity and risk-management needs</a>,\n",
       " <a href=\"/boarddocs/speeches/2002/20020521/default.htm\">A look at the banking industry in 2002</a>,\n",
       " <a href=\"/boarddocs/speeches/2002/20020517/default.htm\">Financing options for small business</a>,\n",
       " <a href=\"/boarddocs/speeches/2002/20020513/default.htm\">Reflections on financial literacy</a>,\n",
       " <a href=\"/boarddocs/speeches/2002/20020511/default.htm\">Thoughts on success in life</a>,\n",
       " <a href=\"/boarddocs/speeches/2002/20020510/default.htm\">Cyclicality and banking regulation</a>,\n",
       " <a href=\"/boarddocs/speeches/2002/20020509/default.htm\">Implications of 9/11 for the financial services sector</a>,\n",
       " <a href=\"/boarddocs/speeches/2002/20020503/default.htm\">Stock options and related matters</a>,\n",
       " <a href=\"/boarddocs/speeches/2002/20020502/default.htm\">Financial literacy</a>,\n",
       " <a href=\"/boarddocs/speeches/2002/20020430/default.htm\">Risk management in a changing economic environment</a>,\n",
       " <a href=\"/boarddocs/speeches/2002/20020422/default.htm\">Finance: United States and global</a>,\n",
       " <a href=\"/boarddocs/speeches/2002/20020408/default.htm\">CRA at twenty-five</a>,\n",
       " <a href=\"/boarddocs/speeches/2002/200203262/default.htm\">Corporate governance</a>,\n",
       " <a href=\"/boarddocs/speeches/2002/20020326/default.htm\">Career development in a changing economy</a>,\n",
       " <a href=\"/boarddocs/speeches/2002/20020321/default.htm\">Current challenges of community banks</a>,\n",
       " <a href=\"/boarddocs/speeches/2002/20020313/default.htm\">The U.S. economy</a>,\n",
       " <a href=\"/boarddocs/speeches/2002/20020312/default.htm\">Current industry issues</a>,\n",
       " <a href=\"/boarddocs/speeches/2002/20020307/default.htm\">Macroeconomic policy in recessions--and other times</a>,\n",
       " <a href=\"/boarddocs/speeches/2002/200203042/default.htm\">Back to the future in managing banking risk</a>,\n",
       " <a href=\"/boarddocs/speeches/2002/20020304/default.htm\">A supervisory perspective on disaster recovery and business continuity</a>,\n",
       " <a href=\"/boarddocs/speeches/2002/20020301/default.htm\">Lending to lower-income households</a>,\n",
       " <a href=\"/boarddocs/speeches/2002/200202282/default.htm\">Strengthening the financial system of the 21st century through sound accounting and disclosure</a>,\n",
       " <a href=\"/boarddocs/speeches/2002/20020228/default.htm\">Saving for retirement</a>,\n",
       " <a href=\"/boarddocs/speeches/2002/20020227/default.htm\">A review of economic developments in 2001 and the economic outlook</a>,\n",
       " <a href=\"/boarddocs/speeches/2002/20020220/default.htm\">Consumption and the wealth effect: The United States and the United Kingdom</a>,\n",
       " <a href=\"/boarddocs/speeches/2002/20020208/default.htm\">Implementing the Gramm-Leach-Bliley Act: Two years later</a>,\n",
       " <a href=\"/boarddocs/speeches/2002/20020207/default.htm\">Observations on the evolution of the financial services industry and public policy</a>,\n",
       " <a href=\"/boarddocs/speeches/2002/20020118/default.htm\">Predatory lending</a>,\n",
       " <a href=\"/boarddocs/speeches/2002/200201163/default.htm\">The history of money</a>,\n",
       " <a href=\"/boarddocs/speeches/2002/200201162/default.htm\">Rules and discretion</a>,\n",
       " <a href=\"/boarddocs/speeches/2002/20020116/default.htm\">Developments in the U.S. economy: Review and outlook</a>,\n",
       " <a href=\"/boarddocs/speeches/2002/20020111/default.htm\">The economy</a>,\n",
       " <a href=\"/boarddocs/speeches/2002/20020110/default.htm\">Economic development and financial literacy</a>,\n",
       " <a href=\"/boarddocs/speeches/2002/20020108/default.htm\">Why central banks should talk</a>]"
      ]
     },
     "execution_count": 3,
     "metadata": {},
     "output_type": "execute_result"
    }
   ],
   "source": [
    "url = \"https://www.federalreserve.gov/newsevents/speech/2002speech.htm\"\n",
    "socket = urlopen(url)\n",
    "soup = BeautifulSoup(socket, 'html.parser')\n",
    "elements = soup.findAll('a', href=re.compile('^/?newsevents/speech/.*\\d{8}.*.htm|^/boarddocs/speeches/\\d{4}/|d{8}.*.htm'))\n",
    "elements"
   ]
  },
  {
   "cell_type": "code",
   "execution_count": 4,
   "metadata": {},
   "outputs": [
    {
     "name": "stdout",
     "output_type": "stream",
     "text": [
      "Issues for monetary policy\n",
      "Chairman Alan Greenspan\n",
      "\n",
      "The importance of market structure\n",
      "Governor Mark W. Olson\n",
      "\n",
      "Credit availability for small business\n",
      "Governor Susan S. Bies\n",
      "\n",
      "The U.S. current account deficit\n",
      "Governor Donald L. Kohn\n",
      "\n",
      "Deflation: Making sure \"it\" doesn't happen here\n",
      "Governor Ben S. Bernanke\n",
      "\n",
      "Financial engineering and financial stability\n",
      "Vice Chairman Roger W. Ferguson, Jr.\n",
      "\n",
      "International financial risk management\n",
      "Chairman Alan Greenspan\n",
      "\n",
      "Opening remarks\n",
      "Chairman Alan Greenspan\n",
      "\n",
      "Overcoming challenges and seizing opportunities in Indian Country\n",
      "Governor Mark W. Olson\n",
      "\n",
      "Opening remarks\n",
      "Governor Susan S. Bies\n",
      "\n",
      "The banking industry in 2002 after a decade of change\n",
      "Governor Mark W. Olson\n",
      "\n",
      "Economic progress and small business\n",
      "Vice Chairman Roger W. Ferguson, Jr.\n",
      "\n",
      "Recent experience and economic outlook\n",
      "Vice Chairman Roger W. Ferguson, Jr.\n",
      "\n",
      "The wealth of nations revisited\n",
      "Chairman Alan Greenspan\n",
      "\n",
      "On Milton Friedman's ninetieth birthday\n",
      "Governor Ben S. Bernanke\n",
      "\n",
      "Opening remarks\n",
      "Governor Edward M. Gramlich\n",
      "\n",
      "Effective accounting and disclosure for financial transactions and financial institutions\n",
      "Governor Susan S. Bies\n",
      "\n",
      "Education\n",
      "Chairman Alan Greenspan\n",
      "\n",
      "Productivity growth: A realistic assessment\n",
      "Vice Chairman Roger W. Ferguson, Jr.\n",
      "\n",
      "Productivity\n",
      "Chairman Alan Greenspan\n",
      "\n",
      "Urban revitalization: Shared responsibilities\n",
      "Governor Mark W. Olson\n",
      "\n",
      "The methodology of benefit-cost analysis\n",
      "Governor Edward M. Gramlich\n",
      "\n",
      "Remarks\n",
      "Vice Chairman Roger W. Ferguson, Jr\n",
      "\n",
      "Should financial stability be an explicit central bank objective?\n",
      "Vice Chairman Roger W. Ferguson, Jr\n",
      "\n",
      "Asset-price \"bubbles\" and monetary policy\n",
      "Governor Ben S. Bernanke\n",
      "\n",
      "Central banks and markets\n",
      "Vice Chairman Roger W. Ferguson, Jr.\n",
      "\n",
      "Corporate governance and risk management\n",
      "Governor Susan S. Bies\n",
      "\n",
      "Banking\n",
      "Chairman Alan Greenspan\n",
      "\n",
      "Business continuity after September 11\n",
      "Vice Chairman Roger W. Ferguson, Jr.\n",
      "\n",
      "The challenge for corporate governance posed by financial innovation\n",
      "Governor Susan S. Bies\n",
      "\n",
      "Bank performance and corporate governance\n",
      "Governor Susan S. Bies\n",
      "\n",
      "World finance and risk management\n",
      "Chairman Alan Greenspan\n",
      "\n",
      "Regulation, innovation, and wealth creation\n",
      "Chairman Alan Greenspan\n",
      "\n",
      "Policy coordination\n",
      "Chairman Alan Greenspan\n",
      "\n",
      "Economic volatility\n",
      "Chairman Alan Greenspan\n",
      "\n",
      "Economic change in rural America\n",
      "Governor Mark W. Olson\n",
      "\n",
      "Financial markets regulation in the United States\n",
      "Governor Mark W. Olson\n",
      "\n",
      "Introductory remarks\n",
      "Governor Edward M. Gramlich\n",
      "\n",
      "Banking supervision and its application in developing countries\n",
      "Governor Susan S. Bies\n",
      "\n",
      "Bank performance and corporate governance\n",
      "Governor Susan S. Bies\n",
      "\n",
      "Lessons to be re-learned from recent breakdowns in corporate accounting\n",
      "Governor Susan S. Bies\n",
      "\n",
      "The dual banking system and the current condition of the banking industry\n",
      "Governor Mark W. Olson\n",
      "\n",
      "Community and regional banks: Increasing complexity and risk-management needs\n",
      "Vice Chairman Roger W. Ferguson, Jr.\n",
      "\n",
      "A look at the banking industry in 2002\n",
      "Governor Mark W. Olson\n",
      "\n",
      "Financing options for small business\n",
      "Governor Mark W. Olson\n",
      "\n",
      "Reflections on financial literacy\n",
      "Vice Chairman Roger W. Ferguson, Jr.\n",
      "\n",
      "Thoughts on success in life\n",
      "Vice Chairman Roger W. Ferguson, Jr.\n",
      "\n",
      "Cyclicality and banking regulation\n",
      "Chairman Alan Greenspan\n",
      "\n",
      "Implications of 9/11 for the financial services sector\n",
      "Vice Chairman Roger W. Ferguson, Jr.\n",
      "\n",
      "Stock options and related matters\n",
      "Chairman Alan Greenspan\n",
      "\n",
      "Financial literacy\n",
      "Governor Edward M. Gramlich\n",
      "\n",
      "Risk management in a changing economic environment\n",
      "Governor Mark W. Olson\n",
      "\n",
      "Finance: United States and global\n",
      "Chairman Alan Greenspan\n",
      "\n",
      "CRA at twenty-five\n",
      "Governor Edward M. Gramlich\n",
      "\n",
      "Corporate governance\n",
      "Chairman Alan Greenspan\n",
      "\n",
      "Career development in a changing economy\n",
      "Governor Mark W. Olson\n",
      "\n",
      "Current challenges of community banks\n",
      "Governor Susan S. Bies\n",
      "\n",
      "The U.S. economy\n",
      "Chairman Alan Greenspan\n",
      "\n",
      "Current industry issues\n",
      "Governor Mark W. Olson\n",
      "\n",
      "Macroeconomic policy in recessions--and other times\n",
      "Governor Edward M. Gramlich\n",
      "\n",
      "Back to the future in managing banking risk\n",
      "Vice Chairman Roger W. Ferguson, Jr.\n",
      "\n",
      "A supervisory perspective on disaster recovery and business continuity\n",
      "Vice Chairman Roger W. Ferguson, Jr.\n",
      "\n",
      "Lending to lower-income households\n",
      "Governor Edward M. Gramlich\n",
      "\n",
      "Strengthening the financial system of the 21st century through sound accounting and disclosure\n",
      "Governor Susan Schmidt Bies\n",
      "\n",
      "Saving for retirement\n",
      "Chairman Alan Greenspan\n",
      "\n",
      "A review of economic developments in 2001 and the economic outlook\n",
      "Vice Chairman Roger W. Ferguson, Jr.\n",
      "\n",
      "Consumption and the wealth effect: The United States and the United Kingdom\n",
      "Governor Edward M. Gramlich\n",
      "\n",
      "Implementing the Gramm-Leach-Bliley Act: Two years later\n",
      "Governor Mark W. Olson\n",
      "\n",
      "Observations on the evolution of the financial services industry and public policy\n",
      "Governor Mark W. Olson\n",
      "\n",
      "Predatory lending\n",
      "Governor Edward M. Gramlich\n",
      "\n",
      "The history of money\n",
      "Chairman Alan Greenspan\n",
      "\n",
      "Rules and discretion\n",
      "Governor Laurence H. Meyer\n",
      "\n",
      "Developments in the U.S. economy: Review and outlook\n",
      "Vice Chairman Roger W. Ferguson, Jr.\n",
      "\n",
      "The economy\n",
      "Chairman Alan Greenspan\n",
      "\n",
      "Economic development and financial literacy\n",
      "Chairman Alan Greenspan\n",
      "\n",
      "Why central banks should talk\n",
      "Vice Chairman Roger W. Ferguson, Jr.\n",
      "\n"
     ]
    }
   ],
   "source": [
    "for element in elements:\n",
    "    print(element.get_text())\n",
    "    print(element.parent.next_sibling.next_element.get_text().replace('\\n', '').strip())\n",
    "    print()"
   ]
  },
  {
   "cell_type": "code",
   "execution_count": 5,
   "metadata": {},
   "outputs": [
    {
     "data": {
      "text/plain": [
       "'Cyclicality and banking regulation'"
      ]
     },
     "execution_count": 5,
     "metadata": {},
     "output_type": "execute_result"
    }
   ],
   "source": [
    "elements[47].get_text()"
   ]
  },
  {
   "cell_type": "code",
   "execution_count": 6,
   "metadata": {},
   "outputs": [
    {
     "data": {
      "text/plain": [
       "'Chairman Alan Greenspan'"
      ]
     },
     "execution_count": 6,
     "metadata": {},
     "output_type": "execute_result"
    }
   ],
   "source": [
    "elements[47].parent.next_sibling.next_element.get_text().replace('\\n', '').strip()"
   ]
  },
  {
   "cell_type": "code",
   "execution_count": 7,
   "metadata": {},
   "outputs": [
    {
     "data": {
      "text/plain": [
       "'\\n        December 19, 2002 \\n        '"
      ]
     },
     "execution_count": 7,
     "metadata": {},
     "output_type": "execute_result"
    }
   ],
   "source": [
    "\n",
    "elements[0].previous_element.previous_element.previous_element"
   ]
  },
  {
   "cell_type": "code",
   "execution_count": 8,
   "metadata": {},
   "outputs": [],
   "source": [
    "chair = pd.DataFrame(\n",
    "            data=[[\"Greenspan\", \"Alan\", \"1987-08-11\", \"2006-01-31\"], \n",
    "                  [\"Bernanke\", \"Ben\", \"2006-02-01\", \"2014-01-31\"], \n",
    "                  [\"Yellen\", \"Janet\", \"2014-02-03\", \"2018-02-03\"],\n",
    "                  [\"Powell\", \"Jerome\", \"2018-02-05\", \"2022-02-05\"]],\n",
    "            columns=[\"Surname\", \"FirstName\", \"FromDate\", \"ToDate\"])"
   ]
  },
  {
   "cell_type": "code",
   "execution_count": 9,
   "metadata": {},
   "outputs": [
    {
     "data": {
      "text/plain": [
       "'1987-08-11'"
      ]
     },
     "execution_count": 9,
     "metadata": {},
     "output_type": "execute_result"
    }
   ],
   "source": [
    "chair.FromDate[0]"
   ]
  },
  {
   "cell_type": "code",
   "execution_count": 10,
   "metadata": {},
   "outputs": [],
   "source": [
    "text = '''\n",
    "CHAIRMAN BERNANKE. No, but some people were suggesting that we drop the\n",
    "whole picture.\n",
    "MR. EVANS. It’s not precisely the same information, is it?\n",
    "MR. PLOSSER. Actually there’s more information in the dot chart.\n",
    "CHAIRMAN BERNANKE. It’s a subset. It’s inferable, is it not?\n",
    "MR. POTTER. If it’s monotonic—unless someone’s got a modal path that goes up and\n",
    "down.\n",
    "CHAIRMAN BERNANKE. I see. I assume it’s monotonic. All right. Let’s not get into\n",
    "the mathematics of this here. So I think I would like to keep the funds rate chart, leaving for\n",
    "further discussion the question that President Plosser raised. Maybe the Committee would like to\n",
    "talk about that.\n",
    "The issue of voters versus nonvoters—let me say, first, that there doesn’t seem to be\n",
    "support; it’s more or less even. Maybe a slight majority were in favor of the distinction. Again,\n",
    "it’s worth reviewing further. For example, some people dislike the idea of coloring the dots, so\n",
    "to speak, for b\n",
    "\n",
    "'''"
   ]
  },
  {
   "cell_type": "code",
   "execution_count": 11,
   "metadata": {},
   "outputs": [],
   "source": [
    "para = text.split('\\n')"
   ]
  },
  {
   "cell_type": "code",
   "execution_count": 12,
   "metadata": {},
   "outputs": [
    {
     "data": {
      "text/plain": [
       "['',\n",
       " 'CHAIRMAN BERNANKE. No, but some people were suggesting that we drop the',\n",
       " 'whole picture.',\n",
       " 'MR. EVANS. It’s not precisely the same information, is it?',\n",
       " 'MR. PLOSSER. Actually there’s more information in the dot chart.',\n",
       " 'CHAIRMAN BERNANKE. It’s a subset. It’s inferable, is it not?',\n",
       " 'MR. POTTER. If it’s monotonic—unless someone’s got a modal path that goes up and',\n",
       " 'down.',\n",
       " 'CHAIRMAN BERNANKE. I see. I assume it’s monotonic. All right. Let’s not get into',\n",
       " 'the mathematics of this here. So I think I would like to keep the funds rate chart, leaving for',\n",
       " 'further discussion the question that President Plosser raised. Maybe the Committee would like to',\n",
       " 'talk about that.',\n",
       " 'The issue of voters versus nonvoters—let me say, first, that there doesn’t seem to be',\n",
       " 'support; it’s more or less even. Maybe a slight majority were in favor of the distinction. Again,',\n",
       " 'it’s worth reviewing further. For example, some people dislike the idea of coloring the dots, so',\n",
       " 'to speak, for b',\n",
       " '',\n",
       " '']"
      ]
     },
     "execution_count": 12,
     "metadata": {},
     "output_type": "execute_result"
    }
   ],
   "source": [
    "para"
   ]
  },
  {
   "cell_type": "code",
   "execution_count": 13,
   "metadata": {},
   "outputs": [
    {
     "data": {
      "text/plain": [
       "'CHAIRMAN BERNANKE'"
      ]
     },
     "execution_count": 13,
     "metadata": {},
     "output_type": "execute_result"
    }
   ],
   "source": [
    "re.findall(r'(^[A-Z. ]*[A-Z]{4}). ', para[1])[0]"
   ]
  },
  {
   "cell_type": "code",
   "execution_count": 14,
   "metadata": {},
   "outputs": [
    {
     "data": {
      "text/plain": [
       "['/newsevents/speech/yellen20111021a.htm']"
      ]
     },
     "execution_count": 14,
     "metadata": {},
     "output_type": "execute_result"
    }
   ],
   "source": [
    "test = '/newsevents/speech/yellen20111021a.htm'\n",
    "re.findall('^/?newsevents/speech/.*{}\\d\\d\\d\\d.*.htm'.format('2011'), test)"
   ]
  },
  {
   "cell_type": "code",
   "execution_count": null,
   "metadata": {},
   "outputs": [],
   "source": []
  }
 ],
 "metadata": {
  "kernelspec": {
   "display_name": "Python 3",
   "language": "python",
   "name": "python3"
  },
  "language_info": {
   "codemirror_mode": {
    "name": "ipython",
    "version": 3
   },
   "file_extension": ".py",
   "mimetype": "text/x-python",
   "name": "python",
   "nbconvert_exporter": "python",
   "pygments_lexer": "ipython3",
   "version": "3.7.4"
  }
 },
 "nbformat": 4,
 "nbformat_minor": 2
}
